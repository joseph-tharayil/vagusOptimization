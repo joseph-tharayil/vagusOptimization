{
 "cells": [
  {
   "cell_type": "code",
   "execution_count": 30,
   "id": "d7a7860a-f404-4434-ab2b-36661036caa3",
   "metadata": {},
   "outputs": [],
   "source": [
    "import matplotlib.pyplot as plt\n",
    "import numpy as np\n",
    "import pandas as pd\n",
    "%matplotlib tk"
   ]
  },
  {
   "cell_type": "code",
   "execution_count": 31,
   "id": "bc2011e8-402f-4aea-8adc-af6c47835b1a",
   "metadata": {},
   "outputs": [],
   "source": [
    "from vagusNerve.nerveSetup import getFasciclePositions"
   ]
  },
  {
   "cell_type": "code",
   "execution_count": 32,
   "id": "3025be8d-33d4-4736-b0d2-576ac5fcf5d2",
   "metadata": {},
   "outputs": [],
   "source": [
    "fascPos = getFasciclePositions()"
   ]
  },
  {
   "cell_type": "code",
   "execution_count": 33,
   "id": "19079e1e-e9e1-4249-a9b8-5dcbf8ac3f6e",
   "metadata": {},
   "outputs": [],
   "source": [
    "from vagusNerve.recruitment import Recruitment"
   ]
  },
  {
   "cell_type": "code",
   "execution_count": 34,
   "id": "46d466fe-5821-4e51-8dce-510f0894dffa",
   "metadata": {},
   "outputs": [],
   "source": [
    "stimulusDirectory = {\"myelinated\":'../Data/TitrationBetterConductivity_Standoff_HighConductivity.xlsx'\n",
    "                     }"
   ]
  },
  {
   "cell_type": "code",
   "execution_count": 35,
   "id": "8a7b50f5-0710-4cbd-bc5f-ba1deac5fd81",
   "metadata": {},
   "outputs": [],
   "source": [
    "current = np.linspace(0,500,1000)*10/173"
   ]
  },
  {
   "cell_type": "code",
   "execution_count": 36,
   "id": "34e3aecd-2f94-439d-a5be-b09b32a5e41e",
   "metadata": {},
   "outputs": [],
   "source": [
    "diameters = [4e-6]"
   ]
  },
  {
   "cell_type": "code",
   "execution_count": 37,
   "id": "bc224ee4-884b-466a-8cc1-cca24444a527",
   "metadata": {},
   "outputs": [],
   "source": [
    "recruitmentCurves = []\n",
    "for i in range(39):\n",
    "    recruitment = Recruitment(current,diameters,i,stimulusDirectory)\n",
    "    recruitmentCurves.append(recruitment)\n",
    "recruitmentCurves = np.array(recruitmentCurves)[:,0,:]"
   ]
  },
  {
   "cell_type": "code",
   "execution_count": 9,
   "id": "2f9e3a73-40a1-4b0f-bb61-dea867c90ec3",
   "metadata": {},
   "outputs": [
    {
     "data": {
      "text/plain": [
       "(39, 1000)"
      ]
     },
     "execution_count": 9,
     "metadata": {},
     "output_type": "execute_result"
    }
   ],
   "source": [
    "recruitmentCurves.shape"
   ]
  },
  {
   "cell_type": "code",
   "execution_count": 11,
   "id": "3a19d7da-c7f4-4dc1-97ec-dbc045c43161",
   "metadata": {
    "scrolled": true
   },
   "outputs": [],
   "source": [
    "plt.figure()\n",
    "for i in range(39):\n",
    "    plt.plot(current,recruitmentCurves[i])"
   ]
  },
  {
   "cell_type": "code",
   "execution_count": 38,
   "id": "845a23c1-f55f-42e5-b707-c4265235ff3f",
   "metadata": {},
   "outputs": [],
   "source": [
    "def logistic(x, k,x0):\n",
    "    return 1/(1+np.exp(-k*(x-x0)))"
   ]
  },
  {
   "cell_type": "code",
   "execution_count": 39,
   "id": "576787e2-c668-4586-9eb6-196cab15eb63",
   "metadata": {},
   "outputs": [],
   "source": [
    "from scipy.optimize import curve_fit"
   ]
  },
  {
   "cell_type": "code",
   "execution_count": 40,
   "id": "b53652ed-d78e-4546-a2c8-aedf225e47fd",
   "metadata": {},
   "outputs": [],
   "source": [
    "fits = []\n",
    "for i in range(39):\n",
    "    fits.append(curve_fit(logistic,current,recruitmentCurves[i])[0])\n",
    "fits = np.array(fits)"
   ]
  },
  {
   "cell_type": "code",
   "execution_count": 29,
   "id": "15ab6517-c383-433b-9256-d2c5d0365bc1",
   "metadata": {},
   "outputs": [
    {
     "data": {
      "text/plain": [
       "<matplotlib.collections.PathCollection at 0x1682da59590>"
      ]
     },
     "execution_count": 29,
     "metadata": {},
     "output_type": "execute_result"
    }
   ],
   "source": [
    "plt.figure()\n",
    "plt.scatter(fascPos[:,0],fascPos[:,1],c=fits[:,0])\n",
    "plt.scatter(fascPos[1,0],fascPos[1,1],c='r')\n",
    "plt.scatter(fascPos[0,0],fascPos[0,1],c='r')"
   ]
  },
  {
   "cell_type": "code",
   "execution_count": 41,
   "id": "d6e3cc42-9490-4bf1-baf9-de7b6a3080da",
   "metadata": {},
   "outputs": [],
   "source": [
    "from sklearn.decomposition import PCA"
   ]
  },
  {
   "cell_type": "code",
   "execution_count": 42,
   "id": "043fc12c-bc1d-4401-9405-5e7702a43fb7",
   "metadata": {},
   "outputs": [],
   "source": [
    "pca = PCA(n_components=2)"
   ]
  },
  {
   "cell_type": "code",
   "execution_count": 43,
   "id": "4324fd55-e967-4f45-982d-10f21edd4672",
   "metadata": {},
   "outputs": [],
   "source": [
    "transform = pca.fit_transform(fascPos[:,:2])"
   ]
  },
  {
   "cell_type": "code",
   "execution_count": 44,
   "id": "b0d16a56-9c0d-4a69-84b2-b4f0b9c43f16",
   "metadata": {},
   "outputs": [],
   "source": [
    "transform -= np.mean(transform,axis=0)"
   ]
  },
  {
   "cell_type": "code",
   "execution_count": 54,
   "id": "2aa9bb48-81ca-4a98-852a-62978b9c0334",
   "metadata": {},
   "outputs": [
    {
     "data": {
      "text/plain": [
       "<matplotlib.colorbar.Colorbar at 0x1680a595f90>"
      ]
     },
     "execution_count": 54,
     "metadata": {},
     "output_type": "execute_result"
    }
   ],
   "source": [
    "plt.figure(figsize=(4,2))\n",
    "plt.scatter(transform[:,0],transform[:,1])\n",
    "plt.colorbar()"
   ]
  },
  {
   "cell_type": "code",
   "execution_count": 70,
   "id": "c36f273b-d65f-478e-9619-6fae06a1f427",
   "metadata": {},
   "outputs": [
    {
     "data": {
      "text/plain": [
       "<matplotlib.collections.PathCollection at 0x1680a487d90>"
      ]
     },
     "execution_count": 70,
     "metadata": {},
     "output_type": "execute_result"
    }
   ],
   "source": [
    "plt.figure()\n",
    "plt.scatter(transform[:,0],fits[:,0])"
   ]
  },
  {
   "cell_type": "code",
   "execution_count": 52,
   "id": "a5334277-4a48-4786-92d0-8308efc6f0e0",
   "metadata": {},
   "outputs": [
    {
     "data": {
      "text/plain": [
       "<matplotlib.collections.PathCollection at 0x168302fcf50>"
      ]
     },
     "execution_count": 52,
     "metadata": {},
     "output_type": "execute_result"
    }
   ],
   "source": [
    "plt.figure()\n",
    "plt.scatter(transform[:,0],fits[:,1])"
   ]
  },
  {
   "cell_type": "code",
   "execution_count": null,
   "id": "47cfb80e-72ff-4fe0-8666-1197c2f703e3",
   "metadata": {},
   "outputs": [],
   "source": [
    "def fitSlope(positions):\n",
    "\n",
    "    xPos = positions[:,0]\n",
    "    yPos = positions[:,1]\n",
    "    "
   ]
  },
  {
   "cell_type": "code",
   "execution_count": 55,
   "id": "61fa112a-6bf4-4cc9-b224-d98549894240",
   "metadata": {},
   "outputs": [],
   "source": [
    "stimulusDirectory = {\"myelinated\":r\"D:\\vagusNerve\\VerticalElectrode\\Titration_Sim\" + str(0) + \".xlsx\"\n",
    "                     }"
   ]
  },
  {
   "cell_type": "code",
   "execution_count": 56,
   "id": "46f9a613-4c09-4f43-8fc3-f54bdac17933",
   "metadata": {},
   "outputs": [],
   "source": [
    "current = np.linspace(0,5000,10000)/24.38"
   ]
  },
  {
   "cell_type": "code",
   "execution_count": 57,
   "id": "b1e88da3-a614-4e6b-9443-90c0c3fe0ff5",
   "metadata": {},
   "outputs": [],
   "source": [
    "recruitmentCurves = []\n",
    "for i in range(39):\n",
    "    recruitment = Recruitment(current,diameters,i,stimulusDirectory)\n",
    "    recruitmentCurves.append(recruitment)\n",
    "recruitmentCurves = np.array(recruitmentCurves)[:,0,:]"
   ]
  },
  {
   "cell_type": "code",
   "execution_count": 58,
   "id": "abe4eb32-f17e-4d68-bdac-0717b80cab7f",
   "metadata": {},
   "outputs": [],
   "source": [
    "plt.figure()\n",
    "for i in range(39):\n",
    "    plt.plot(current,recruitmentCurves[i])"
   ]
  },
  {
   "cell_type": "code",
   "execution_count": 59,
   "id": "c08bdb38-4f00-44b1-8302-cc75f52c5d98",
   "metadata": {},
   "outputs": [],
   "source": [
    "fits = []\n",
    "for i in range(39):\n",
    "    fits.append(curve_fit(logistic,current,recruitmentCurves[i],maxfev=10000)[0])\n",
    "fits = np.array(fits)"
   ]
  },
  {
   "cell_type": "code",
   "execution_count": 60,
   "id": "b989a3ba-f0a6-494a-9ead-8d7553cf0c09",
   "metadata": {},
   "outputs": [
    {
     "data": {
      "text/plain": [
       "(array([16.,  7.,  5.,  4.,  3.,  1.,  0.,  2.,  0.,  1.]),\n",
       " array([ 0.8140835 ,  2.57375273,  4.33342196,  6.09309119,  7.85276041,\n",
       "         9.61242964, 11.37209887, 13.1317681 , 14.89143733, 16.65110656,\n",
       "        18.41077579]),\n",
       " <BarContainer object of 10 artists>)"
      ]
     },
     "execution_count": 60,
     "metadata": {},
     "output_type": "execute_result"
    }
   ],
   "source": [
    "plt.figure()\n",
    "plt.hist(fits[:,0])"
   ]
  },
  {
   "cell_type": "code",
   "execution_count": 61,
   "id": "89af2bc4-0ebe-4e6d-9d5a-10c086676129",
   "metadata": {},
   "outputs": [],
   "source": [
    "fasciclesLeft = [0,1,2,3,4,5,6,7,8,9,12,14,16,18,19]\n",
    "fasciclesRight = np.delete(np.arange(39),fasciclesLeft)"
   ]
  },
  {
   "cell_type": "code",
   "execution_count": 74,
   "id": "ddb9c51b-5f8a-44cd-a2ce-992322a43e68",
   "metadata": {},
   "outputs": [
    {
     "data": {
      "text/plain": [
       "<mpl_toolkits.mplot3d.art3d.Path3DCollection at 0x16834b4fd90>"
      ]
     },
     "execution_count": 74,
     "metadata": {},
     "output_type": "execute_result"
    }
   ],
   "source": [
    "fig = plt.figure()\n",
    "ax = fig.add_subplot(projection='3d')\n",
    "ax.scatter(fascPos[:,0],fascPos[:,1],fits[:,1],c=fits[:,1])\n"
   ]
  },
  {
   "cell_type": "code",
   "execution_count": 63,
   "id": "f7eac013-e160-4a2e-899a-d256b4b238c5",
   "metadata": {},
   "outputs": [
    {
     "data": {
      "text/plain": [
       "<mpl_toolkits.mplot3d.art3d.Path3DCollection at 0x1680a5f6710>"
      ]
     },
     "execution_count": 63,
     "metadata": {},
     "output_type": "execute_result"
    }
   ],
   "source": [
    "fig = plt.figure()\n",
    "ax = fig.add_subplot(projection='3d')\n",
    "ax.scatter(fascPos[:,0],fascPos[:,1],fits[:,0],c=fits[:,0])"
   ]
  },
  {
   "cell_type": "code",
   "execution_count": 64,
   "id": "86f10b5f-6a6c-4d93-b811-8f82be7d81dc",
   "metadata": {},
   "outputs": [
    {
     "data": {
      "text/plain": [
       "<mpl_toolkits.mplot3d.art3d.Path3DCollection at 0x1680a18c050>"
      ]
     },
     "execution_count": 64,
     "metadata": {},
     "output_type": "execute_result"
    }
   ],
   "source": [
    "fig = plt.figure()\n",
    "ax = fig.add_subplot(projection='3d')\n",
    "ax.scatter(fascPos[fasciclesLeft,0],fascPos[fasciclesLeft,1],fits[fasciclesLeft,0],c=fits[fasciclesLeft,0])"
   ]
  },
  {
   "cell_type": "code",
   "execution_count": 71,
   "id": "a1911366-52f4-429b-85a6-65ce88de7fd4",
   "metadata": {},
   "outputs": [
    {
     "data": {
      "text/plain": [
       "<matplotlib.collections.PathCollection at 0x16830ddead0>"
      ]
     },
     "execution_count": 71,
     "metadata": {},
     "output_type": "execute_result"
    }
   ],
   "source": [
    "plt.figure()\n",
    "plt.scatter(fascPos[fasciclesLeft,1],fits[fasciclesLeft,0],c=fits[fasciclesLeft,0])"
   ]
  },
  {
   "cell_type": "code",
   "execution_count": 72,
   "id": "094aed84-537d-4c40-9359-8f4d254d114a",
   "metadata": {},
   "outputs": [
    {
     "data": {
      "text/plain": [
       "<matplotlib.collections.PathCollection at 0x16830f19090>"
      ]
     },
     "execution_count": 72,
     "metadata": {},
     "output_type": "execute_result"
    }
   ],
   "source": [
    "plt.figure()\n",
    "plt.scatter(fascPos[fasciclesRight,0],fits[fasciclesRight,0],c=fits[fasciclesRight,0])"
   ]
  },
  {
   "cell_type": "code",
   "execution_count": 73,
   "id": "4e8bac20-5a19-461d-8fb7-d8398568d51a",
   "metadata": {},
   "outputs": [
    {
     "data": {
      "text/plain": [
       "<mpl_toolkits.mplot3d.art3d.Path3DCollection at 0x16830f99d10>"
      ]
     },
     "execution_count": 73,
     "metadata": {},
     "output_type": "execute_result"
    }
   ],
   "source": [
    "fig = plt.figure()\n",
    "ax = fig.add_subplot(projection='3d')\n",
    "ax.scatter(fascPos[fasciclesRight,0],fascPos[fasciclesRight,1],fits[fasciclesRight,0],c=fits[fasciclesRight,0])"
   ]
  },
  {
   "cell_type": "code",
   "execution_count": 33,
   "id": "c83656c6-406b-4f2d-badc-796baf9d9b96",
   "metadata": {},
   "outputs": [
    {
     "data": {
      "text/plain": [
       "<matplotlib.collections.PathCollection at 0x22a2062ccd0>"
      ]
     },
     "execution_count": 33,
     "metadata": {},
     "output_type": "execute_result"
    }
   ],
   "source": [
    "plt.figure()\n",
    "plt.scatter(np.arange(39)[fasciclesLeft],fits[fasciclesLeft,0])"
   ]
  },
  {
   "cell_type": "code",
   "execution_count": 68,
   "id": "1ac6a99a-4b5e-4276-9961-8d52eedd7a5b",
   "metadata": {},
   "outputs": [
    {
     "data": {
      "text/plain": [
       "<matplotlib.collections.PathCollection at 0x1680a0aa210>"
      ]
     },
     "execution_count": 68,
     "metadata": {},
     "output_type": "execute_result"
    }
   ],
   "source": [
    "plt.figure()\n",
    "plt.scatter(transform[fasciclesLeft,0],fits[fasciclesLeft,0])\n",
    "plt.scatter(transform[fasciclesRight,0],fits[fasciclesRight,0])"
   ]
  },
  {
   "cell_type": "code",
   "execution_count": 69,
   "id": "f2cc7f6e-7f1b-4445-a3c7-000e73e16268",
   "metadata": {},
   "outputs": [
    {
     "data": {
      "text/plain": [
       "<matplotlib.collections.PathCollection at 0x1680a4c5090>"
      ]
     },
     "execution_count": 69,
     "metadata": {},
     "output_type": "execute_result"
    }
   ],
   "source": [
    "plt.figure()\n",
    "plt.scatter(transform[fasciclesLeft,1],fits[fasciclesLeft,0])\n",
    "plt.scatter(transform[fasciclesRight,1],fits[fasciclesRight,0])"
   ]
  },
  {
   "cell_type": "code",
   "execution_count": 161,
   "id": "fcac3e9f-4d42-47f4-aca6-80d6648b13b4",
   "metadata": {},
   "outputs": [
    {
     "data": {
      "text/plain": [
       "<matplotlib.collections.PathCollection at 0x22349813b10>"
      ]
     },
     "execution_count": 161,
     "metadata": {},
     "output_type": "execute_result"
    },
    {
     "data": {
      "image/png": "[encoded data removed]",
      "text/plain": [
       "<Figure size 640x480 with 1 Axes>"
      ]
     },
     "metadata": {},
     "output_type": "display_data"
    }
   ],
   "source": [
    "plt.figure()\n",
    "plt.scatter(transform[fasciclesLeft,0],fits[fasciclesLeft,1])\n",
    "plt.scatter(transform[fasciclesRight,0],fits[fasciclesRight,1])"
   ]
  },
  {
   "cell_type": "code",
   "execution_count": 170,
   "id": "529d959b-cd4c-4679-875b-38d050ee108f",
   "metadata": {},
   "outputs": [
    {
     "data": {
      "text/plain": [
       "<matplotlib.collections.PathCollection at 0x2234bc80a50>"
      ]
     },
     "execution_count": 170,
     "metadata": {},
     "output_type": "execute_result"
    },
    {
     "data": {
      "image/png": "[encoded data removed]",
      "text/plain": [
       "<Figure size 640x480 with 1 Axes>"
      ]
     },
     "metadata": {},
     "output_type": "display_data"
    }
   ],
   "source": [
    "plt.figure()\n",
    "plt.scatter(transform[fasciclesLeft,1],fits[fasciclesLeft,1])\n",
    "plt.scatter(transform[fasciclesRight,1],fits[fasciclesRight,1])"
   ]
  },
  {
   "cell_type": "code",
   "execution_count": 71,
   "id": "cc363a81-2323-4162-9e03-360c4cc9d4b6",
   "metadata": {},
   "outputs": [],
   "source": [
    "electrodePos = np.array([6.4,-6])"
   ]
  },
  {
   "cell_type": "code",
   "execution_count": 72,
   "id": "f9b7acd4-13c4-481d-9be3-38d110f220ee",
   "metadata": {},
   "outputs": [],
   "source": [
    "distance = np.linalg.norm(fascPos[:,:2]-electrodePos,axis=1)"
   ]
  },
  {
   "cell_type": "code",
   "execution_count": 78,
   "id": "72e0adbe-74b8-40d8-bb6d-dbb8499b2d33",
   "metadata": {},
   "outputs": [],
   "source": [
    "xdiff = fascPos[:,0]-electrodePos[0]\n",
    "ydiff = fascPos[:,1]-electrodePos[1]"
   ]
  },
  {
   "cell_type": "code",
   "execution_count": 74,
   "id": "36b92cc9-af90-4e0c-936f-d0b97898d03b",
   "metadata": {},
   "outputs": [
    {
     "data": {
      "text/plain": [
       "<matplotlib.collections.PathCollection at 0x22a2c567890>"
      ]
     },
     "execution_count": 74,
     "metadata": {},
     "output_type": "execute_result"
    }
   ],
   "source": [
    "plt.figure()\n",
    "plt.scatter(distance[fasciclesRight],fits[fasciclesRight,0])\n",
    "plt.scatter(distance[fasciclesLeft],fits[fasciclesLeft,0])"
   ]
  },
  {
   "cell_type": "code",
   "execution_count": 162,
   "id": "d8a0c2e5-efe6-42a2-98cc-494bf2ba2909",
   "metadata": {},
   "outputs": [
    {
     "data": {
      "text/plain": [
       "<matplotlib.collections.PathCollection at 0x2234b0b5a90>"
      ]
     },
     "execution_count": 162,
     "metadata": {},
     "output_type": "execute_result"
    },
    {
     "data": {
      "image/png": "[encoded data removed]",
      "text/plain": [
       "<Figure size 640x480 with 1 Axes>"
      ]
     },
     "metadata": {},
     "output_type": "display_data"
    }
   ],
   "source": [
    "plt.figure()\n",
    "plt.scatter(distance[fasciclesRight],fits[fasciclesRight,1])\n",
    "plt.scatter(distance[fasciclesLeft],fits[fasciclesLeft,1])"
   ]
  },
  {
   "cell_type": "code",
   "execution_count": 88,
   "id": "3dbe5347-532b-4f15-8f6c-1dc1b4e827a5",
   "metadata": {},
   "outputs": [
    {
     "data": {
      "text/plain": [
       "np.float64(28.28121511781633)"
      ]
     },
     "execution_count": 88,
     "metadata": {},
     "output_type": "execute_result"
    }
   ],
   "source": [
    "np.max(fits[:,1])"
   ]
  },
  {
   "cell_type": "code",
   "execution_count": 89,
   "id": "884fdd01-5a9f-43d4-b924-cf0b21d018ac",
   "metadata": {},
   "outputs": [
    {
     "data": {
      "text/plain": [
       "<mpl_toolkits.mplot3d.art3d.Path3DCollection at 0x22a22fdf110>"
      ]
     },
     "execution_count": 89,
     "metadata": {},
     "output_type": "execute_result"
    }
   ],
   "source": [
    "fig = plt.figure()\n",
    "ax = fig.add_subplot(projection='3d')\n",
    "ax.scatter(xdiff,ydiff,fits[:,1],c=fits[:,1])"
   ]
  },
  {
   "cell_type": "code",
   "execution_count": 91,
   "id": "1cc2423e-a789-41b9-b051-ec49c2999dec",
   "metadata": {},
   "outputs": [
    {
     "data": {
      "text/plain": [
       "<mpl_toolkits.mplot3d.art3d.Path3DCollection at 0x22a2e2747d0>"
      ]
     },
     "execution_count": 91,
     "metadata": {},
     "output_type": "execute_result"
    }
   ],
   "source": [
    "fig = plt.figure()\n",
    "ax = fig.add_subplot(projection='3d')\n",
    "ax.scatter(xdiff[fasciclesLeft],ydiff[fasciclesLeft],fits[fasciclesLeft,1],c=fits[fasciclesLeft,1])"
   ]
  },
  {
   "cell_type": "code",
   "execution_count": 90,
   "id": "ddb7da8d-fbe1-4025-b973-82c0f797ec31",
   "metadata": {},
   "outputs": [
    {
     "data": {
      "text/plain": [
       "<mpl_toolkits.mplot3d.art3d.Path3DCollection at 0x22a23497890>"
      ]
     },
     "execution_count": 90,
     "metadata": {},
     "output_type": "execute_result"
    }
   ],
   "source": [
    "fig = plt.figure()\n",
    "ax = fig.add_subplot(projection='3d')\n",
    "ax.scatter(xdiff,ydiff,fits[:,0],c=fits[:,0])"
   ]
  },
  {
   "cell_type": "code",
   "execution_count": 92,
   "id": "d2bc5521-9a07-4a5d-b37a-b2284e2bcd80",
   "metadata": {},
   "outputs": [
    {
     "data": {
      "text/plain": [
       "<matplotlib.collections.PathCollection at 0x22a289234d0>"
      ]
     },
     "execution_count": 92,
     "metadata": {},
     "output_type": "execute_result"
    }
   ],
   "source": [
    "plt.figure()\n",
    "plt.scatter(ydiff[fasciclesLeft],fits[fasciclesLeft,0],c=fits[fasciclesLeft,0])"
   ]
  },
  {
   "cell_type": "code",
   "execution_count": 93,
   "id": "e70ebb5a-081e-4eae-94bc-eb51ca83f87d",
   "metadata": {},
   "outputs": [
    {
     "data": {
      "text/plain": [
       "<matplotlib.collections.PathCollection at 0x22a28773610>"
      ]
     },
     "execution_count": 93,
     "metadata": {},
     "output_type": "execute_result"
    }
   ],
   "source": [
    "plt.figure()\n",
    "plt.scatter(xdiff[fasciclesRight],fits[fasciclesRight,0],c=fits[fasciclesRight,0])"
   ]
  },
  {
   "cell_type": "code",
   "execution_count": 97,
   "id": "1c47e987-04b0-418c-8938-9c018970dcf7",
   "metadata": {},
   "outputs": [
    {
     "data": {
      "text/plain": [
       "<matplotlib.colorbar.Colorbar at 0x22a2d527890>"
      ]
     },
     "execution_count": 97,
     "metadata": {},
     "output_type": "execute_result"
    }
   ],
   "source": [
    "plt.figure()\n",
    "plt.scatter(xdiff[fasciclesRight],fits[fasciclesRight,0],c=np.arange(39)[fasciclesRight])\n",
    "plt.colorbar()"
   ]
  },
  {
   "cell_type": "code",
   "execution_count": 104,
   "id": "1b352920-2cb4-4727-8f37-e8d794dcb901",
   "metadata": {},
   "outputs": [
    {
     "data": {
      "text/plain": [
       "array([ 7.90223937, -8.77564917, -5.64631134])"
      ]
     },
     "execution_count": 104,
     "metadata": {},
     "output_type": "execute_result"
    }
   ],
   "source": [
    "fascPos[23]"
   ]
  },
  {
   "cell_type": "code",
   "execution_count": 105,
   "id": "c5762e61-d282-49b0-8b42-0af9adc739fd",
   "metadata": {},
   "outputs": [
    {
     "data": {
      "text/plain": [
       "array([ 7.08434146, -8.82167265, -5.60644058])"
      ]
     },
     "execution_count": 105,
     "metadata": {},
     "output_type": "execute_result"
    }
   ],
   "source": [
    "fascPos[22]"
   ]
  },
  {
   "cell_type": "code",
   "execution_count": 99,
   "id": "7c93e15c-3426-470f-a013-d8602db9ea81",
   "metadata": {},
   "outputs": [
    {
     "data": {
      "text/plain": [
       "array([2.90800927, 2.04348734, 5.13818859, 1.67445903, 3.24035343,\n",
       "       7.49410155, 4.41557936, 1.26133237, 1.76539006, 8.66504891,\n",
       "       7.0012961 , 1.74200859, 1.46676047, 6.05097655, 8.14995734,\n",
       "       5.98856129, 1.93269986, 6.70386916, 2.751682  , 4.53058176,\n",
       "       1.33876113, 8.26670144, 2.89032306, 3.36899121])"
      ]
     },
     "execution_count": 99,
     "metadata": {},
     "output_type": "execute_result"
    }
   ],
   "source": [
    "fits[fasciclesRight,0]"
   ]
  },
  {
   "cell_type": "code",
   "execution_count": 103,
   "id": "e9ca8ff9-9f45-497f-a888-bceb68595f6d",
   "metadata": {},
   "outputs": [
    {
     "data": {
      "text/plain": [
       "array([1.05607678, 0.90841183, 1.12352233, 0.60767749, 0.75628119,\n",
       "       1.2508125 , 0.84289245, 0.68434146, 1.50223937, 1.15455317,\n",
       "       1.26993498, 0.66089269, 0.45360536, 0.96589982, 1.48160758,\n",
       "       0.86011749, 0.56277484, 1.03260057, 0.68017456, 0.89005104,\n",
       "       0.57781855, 1.15432114, 0.77342628, 1.00431722])"
      ]
     },
     "execution_count": 103,
     "metadata": {},
     "output_type": "execute_result"
    }
   ],
   "source": [
    "xdiff[fasciclesRight]"
   ]
  },
  {
   "cell_type": "code",
   "execution_count": 98,
   "id": "2daa595a-fbae-49fa-a76e-e466fe65de18",
   "metadata": {},
   "outputs": [
    {
     "data": {
      "text/plain": [
       "array([10, 11, 13, 15, 17, 20, 21, 22, 23, 24, 25, 26, 27, 28, 29, 30, 31,\n",
       "       32, 33, 34, 35, 36, 37, 38])"
      ]
     },
     "execution_count": 98,
     "metadata": {},
     "output_type": "execute_result"
    }
   ],
   "source": [
    "fasciclesRight"
   ]
  },
  {
   "cell_type": "code",
   "execution_count": 163,
   "id": "4860660a-3633-435e-9dfb-7f6e13222b68",
   "metadata": {},
   "outputs": [],
   "source": [
    "fascicleSizes = np.array([.24*.26,.16*.16,.18*.2,.16*.16,.12*.14,.16*.16,.1*.12,.24*.2,.2*.24,.18*.2,.14*.12,\n",
    "                .16*.16,.1*.08,.16*.14,.12*.12,.08*.08,.14*.12,.1*.1,.2*.18,.14*.14,.14*.12,\n",
    "                .12*.12,.22*.18,.14*.14,.14*.12,.18*.18,.16*.16,.1*.16,.12*.12,.22*.22,.1*.1,.1*.08,\n",
    "                .12*.12,.1*.1,.12*.1,.14*.1,.1*.1,.14*.12,.18*.16])*1e-3**2"
   ]
  },
  {
   "cell_type": "code",
   "execution_count": 168,
   "id": "602afd32-4a33-4062-80a9-7246234df877",
   "metadata": {},
   "outputs": [
    {
     "data": {
      "text/plain": [
       "<matplotlib.collections.PathCollection at 0x22349b742d0>"
      ]
     },
     "execution_count": 168,
     "metadata": {},
     "output_type": "execute_result"
    },
    {
     "data": {
      "image/png": "[encoded data removed]",
      "text/plain": [
       "<Figure size 640x480 with 1 Axes>"
      ]
     },
     "metadata": {},
     "output_type": "display_data"
    }
   ],
   "source": [
    "plt.figure()\n",
    "plt.scatter(fascicleSizes[fasciclesRight],fits[fasciclesRight,0])\n",
    "plt.scatter(fascicleSizes[fasciclesLeft],fits[fasciclesLeft,0])"
   ]
  },
  {
   "cell_type": "code",
   "execution_count": null,
   "id": "888a0945-9325-41f1-b2f1-50d77eebdbc4",
   "metadata": {},
   "outputs": [],
   "source": []
  },
  {
   "cell_type": "code",
   "execution_count": null,
   "id": "5c1955e9-a337-421d-be6f-b228f209e836",
   "metadata": {},
   "outputs": [],
   "source": []
  }
 ],
 "metadata": {
  "kernelspec": {
   "display_name": "Python 3 (ipykernel)",
   "language": "python",
   "name": "python3"
  },
  "language_info": {
   "codemirror_mode": {
    "name": "ipython",
    "version": 3
   },
   "file_extension": ".py",
   "mimetype": "text/x-python",
   "name": "python",
   "nbconvert_exporter": "python",
   "pygments_lexer": "ipython3",
   "version": "3.13.2"
  }
 },
 "nbformat": 4,
 "nbformat_minor": 5
}
