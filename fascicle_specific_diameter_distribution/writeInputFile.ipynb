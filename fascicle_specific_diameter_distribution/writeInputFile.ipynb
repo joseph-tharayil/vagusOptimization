{
 "cells": [
  {
   "cell_type": "code",
   "execution_count": 3,
   "id": "1b46ab18-7d66-4829-9a00-5c812822a44b",
   "metadata": {},
   "outputs": [],
   "source": [
    "numFasc = 39\n",
    "fiberTypes = ['maff','meff']\n",
    "params = ['M','S']"
   ]
  },
  {
   "cell_type": "code",
   "execution_count": 6,
   "id": "3e2243e8-3181-465e-9ffa-e9c07defdcac",
   "metadata": {},
   "outputs": [],
   "source": [
    "initialPointString = 'initial_point\\t'\n",
    "lowerBoundsString = 'lower_bounds\\t'\n",
    "upperBoundsString = 'upper_bounds\\t'\n",
    "descriptorString = 'descriptor\\t'\n",
    "\n",
    "for i in range(numFasc):\n",
    "    for f in fiberTypes:\n",
    "        for p in params:\n",
    "            if p == 'M':\n",
    "                initialPointString += '5.9\\t'\n",
    "                upperBoundsString += '10\\t'\n",
    "            else: \n",
    "                initialPointString += '0.5\\t'\n",
    "                upperBoundsString += '2\\t'\n",
    "            lowerBoundsString += '0\\t'\n",
    "            descriptorString += f+p+str(i)+'\\t'"
   ]
  },
  {
   "cell_type": "code",
   "execution_count": 8,
   "id": "50306ad8-f899-4cf9-9766-d0a07039d836",
   "metadata": {},
   "outputs": [],
   "source": [
    "f = open('input.txt','w')\n",
    "f.writelines(initialPointString+'\\n')\n",
    "f.writelines(lowerBoundsString+'\\n')\n",
    "f.writelines(upperBoundsString+'\\n')\n",
    "f.writelines(descriptorString+'\\n')\n",
    "f.close()"
   ]
  },
  {
   "cell_type": "code",
   "execution_count": null,
   "id": "a2786bbb-e578-437d-9fb3-e488b96216d8",
   "metadata": {},
   "outputs": [],
   "source": []
  }
 ],
 "metadata": {
  "kernelspec": {
   "display_name": "Python 3 (ipykernel)",
   "language": "python",
   "name": "python3"
  },
  "language_info": {
   "codemirror_mode": {
    "name": "ipython",
    "version": 3
   },
   "file_extension": ".py",
   "mimetype": "text/x-python",
   "name": "python",
   "nbconvert_exporter": "python",
   "pygments_lexer": "ipython3",
   "version": "3.13.2"
  }
 },
 "nbformat": 4,
 "nbformat_minor": 5
}
