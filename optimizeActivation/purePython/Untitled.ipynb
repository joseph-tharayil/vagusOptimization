{
 "cells": [
  {
   "cell_type": "code",
   "execution_count": 1,
   "id": "ac0a856b-33cb-4c94-84eb-171a3ba84e83",
   "metadata": {},
   "outputs": [
    {
     "name": "stdout",
     "output_type": "stream",
     "text": [
      "Using matplotlib backend: module://matplotlib_inline.backend_inline\n"
     ]
    }
   ],
   "source": [
    "import numpy as np\n",
    "import pandas as pd\n",
    "import matplotlib.pyplot as plt\n",
    "%matplotlib"
   ]
  },
  {
   "cell_type": "code",
   "execution_count": 2,
   "id": "5ba94311-cd11-49a6-8bf6-e1e3123d2c34",
   "metadata": {},
   "outputs": [],
   "source": [
    "def load_exposures():\n",
    "    currents = [24.38, 23.07, 23.79, 23.19, 22.1, 23.97, 22.7, 22.95, 20.84, 23.89]\n",
    "    exposureFunctions = []\n",
    "    for stim in range(10):\n",
    "        exposureFunctions.append([])\n",
    "        for fasc in range(39):\n",
    "            phi = -1*pd.read_excel(r'D:\\vagusNerve\\VerticalElectrode\\StimulusExposures\\Sim_'+str(stim)+'Fasc_'+str(fasc)+'.xlsx')['Phi [V] [real]']/currents[stim]\n",
    "            deriv = np.diff(phi)\n",
    "            smoothedDeriv = np.convolve(np.ones(100),deriv,mode='same')\n",
    "            exposureFunctions[stim].append(np.diff(smoothedDeriv))\n",
    "\n",
    "    exposureFunctions = np.array(exposureFunctions)\n",
    "    return exposureFunctions"
   ]
  },
  {
   "cell_type": "code",
   "execution_count": 3,
   "id": "0392ff8a-0691-458e-b46e-ffdd9ed47406",
   "metadata": {},
   "outputs": [],
   "source": [
    "exposures = load_exposures()"
   ]
  },
  {
   "cell_type": "code",
   "execution_count": 8,
   "id": "a80cc1d6-eafd-4fb4-9afd-3729691dd678",
   "metadata": {},
   "outputs": [
    {
     "data": {
      "text/plain": [
       "(16383, 39, 10)"
      ]
     },
     "execution_count": 8,
     "metadata": {},
     "output_type": "execute_result"
    }
   ],
   "source": [
    "exposures.T.shape"
   ]
  },
  {
   "cell_type": "code",
   "execution_count": 27,
   "id": "2f8d9bf1-824b-4bbb-a59a-5fbcddc38729",
   "metadata": {},
   "outputs": [
    {
     "data": {
      "text/plain": [
       "(10, 16383, 39)"
      ]
     },
     "execution_count": 27,
     "metadata": {},
     "output_type": "execute_result"
    }
   ],
   "source": [
    "exposures.transpose((0,2,1)).shape"
   ]
  },
  {
   "cell_type": "code",
   "execution_count": 31,
   "id": "6804b30d-df5c-4d3d-a635-1e7f825141a9",
   "metadata": {},
   "outputs": [
    {
     "data": {
      "text/plain": [
       "(16383, 39)"
      ]
     },
     "execution_count": 31,
     "metadata": {},
     "output_type": "execute_result"
    }
   ],
   "source": [
    "(exposures.T @ np.ones(10)).shape"
   ]
  },
  {
   "cell_type": "code",
   "execution_count": 16,
   "id": "6477d073-bcc4-484f-894f-629f158e5b8a",
   "metadata": {},
   "outputs": [
    {
     "data": {
      "text/plain": [
       "[<matplotlib.lines.Line2D at 0x1f9e4040b90>]"
      ]
     },
     "execution_count": 16,
     "metadata": {},
     "output_type": "execute_result"
    },
    {
     "data": {
      "image/png": "[encoded data removed]",
      "text/plain": [
       "<Figure size 640x480 with 1 Axes>"
      ]
     },
     "metadata": {},
     "output_type": "display_data"
    }
   ],
   "source": [
    "plt.figure()\n",
    "plt.plot(np.convolve(np.ones(100),exposures[0,0]))"
   ]
  },
  {
   "cell_type": "code",
   "execution_count": 4,
   "id": "2f7204ce-5e7d-41dc-ae1f-adeea8024b8a",
   "metadata": {},
   "outputs": [],
   "source": [
    "def targetFascicleActivation(currents,exposureFunctions):\n",
    "\n",
    "    activation = exposureFunctions.T@currents\n",
    "    maxActivation = np.max(activation)\n",
    "    return -maxActivation # Negative sign because we want to maximize it, but Python needs to minimize it"
   ]
  },
  {
   "cell_type": "code",
   "execution_count": 5,
   "id": "d92a6d14-89b2-4989-9e35-dbbb063ed868",
   "metadata": {},
   "outputs": [],
   "source": [
    "def offTargetActivation(currents,exposureFunctions,targetExposures):\n",
    "\n",
    "    activation = exposureFunctions.T @ currents\n",
    "    maxActivation = np.max(activation,axis=0)\n",
    "\n",
    "    targetActivation = targetExposures.T@currents\n",
    "    maxTargetActivation = np.max(targetActivation)\n",
    "\n",
    "    constraintsMet = maxTargetActivation - 2*maxActivation # We expect this to be non-negative\n",
    "    return constraintsMet"
   ]
  },
  {
   "cell_type": "code",
   "execution_count": 6,
   "id": "b6c5244b-d20a-4127-bb96-a72cf5bdfb59",
   "metadata": {},
   "outputs": [],
   "source": [
    "fascicleList = np.arange(39)\n",
    "targetFascicle = 0\n",
    "offTarget = np.delete(fascicleList,targetFascicle)\n",
    "\n",
    "optimizationCoefficients = exposures[:,targetFascicle]\n",
    "boundMatrix = exposures[:,offTarget]\n",
    "maxDesiredActivation = 1e-8*np.ones(38)"
   ]
  },
  {
   "cell_type": "code",
   "execution_count": 7,
   "id": "e84c8a21-3b92-4408-96cd-80ec75142c5e",
   "metadata": {},
   "outputs": [],
   "source": [
    "x = np.load('optimizedResult.npy',allow_pickle=True).item()['x']"
   ]
  },
  {
   "cell_type": "code",
   "execution_count": 8,
   "id": "ae2b53ae-6b3e-4e51-a155-368d00ba4cb6",
   "metadata": {},
   "outputs": [
    {
     "data": {
      "text/plain": [
       "np.float64(-0.0)"
      ]
     },
     "execution_count": 8,
     "metadata": {},
     "output_type": "execute_result"
    }
   ],
   "source": [
    "targetFascicleActivation(x,optimizationCoefficients)"
   ]
  },
  {
   "cell_type": "code",
   "execution_count": 9,
   "id": "0d25dc0a-dcc9-4905-83c3-8fd132aa968f",
   "metadata": {},
   "outputs": [
    {
     "data": {
      "text/plain": [
       "array([0., 0., 0., 0., 0., 0., 0., 0., 0., 0.])"
      ]
     },
     "execution_count": 9,
     "metadata": {},
     "output_type": "execute_result"
    }
   ],
   "source": [
    "x"
   ]
  },
  {
   "cell_type": "code",
   "execution_count": 12,
   "id": "919ec56c-6f4e-4dfb-a333-479ceed7653b",
   "metadata": {},
   "outputs": [
    {
     "data": {
      "text/plain": [
       "array([0., 0., 0., 0., 0., 0., 0., 0., 0., 0., 0., 0., 0., 0., 0., 0., 0.,\n",
       "       0., 0., 0., 0., 0., 0., 0., 0., 0., 0., 0., 0., 0., 0., 0., 0., 0.,\n",
       "       0., 0., 0., 0.])"
      ]
     },
     "execution_count": 12,
     "metadata": {},
     "output_type": "execute_result"
    }
   ],
   "source": [
    "offTargetActivation(x,boundMatrix,optimizationCoefficients)"
   ]
  },
  {
   "cell_type": "code",
   "execution_count": null,
   "id": "6ca53ba7-d69a-41ed-9887-83971f74c400",
   "metadata": {},
   "outputs": [],
   "source": []
  },
  {
   "cell_type": "code",
   "execution_count": 5,
   "id": "52f414a3-d889-4b08-b836-2d10698ab9be",
   "metadata": {},
   "outputs": [
    {
     "data": {
      "text/plain": [
       "np.float64(-1.742777935556588e-05)"
      ]
     },
     "execution_count": 5,
     "metadata": {},
     "output_type": "execute_result"
    }
   ],
   "source": [
    "optimizationCoefficients@x"
   ]
  },
  {
   "cell_type": "code",
   "execution_count": 9,
   "id": "3b660143-0de3-4bdb-a90e-39d567cbd569",
   "metadata": {},
   "outputs": [
    {
     "data": {
      "text/plain": [
       "array([-8.99781003e-07,  1.00000000e-08, -3.30021350e-06, -1.76677978e-05,\n",
       "       -4.17253362e-06, -2.73035903e-06,  1.00000000e-08,  1.00000000e-08,\n",
       "       -2.47850700e-06,  1.00000000e-08, -2.15168838e-04,  1.00000000e-08,\n",
       "        1.00000000e-08,  1.00000000e-08, -9.85281394e-05, -4.11496694e-06,\n",
       "       -2.32263466e-04, -4.00049510e-03, -3.87089195e-04, -9.21678336e-03,\n",
       "       -5.65364395e-04, -1.68660072e-04,  1.00000000e-08, -2.81107547e-03,\n",
       "       -5.80547359e-04, -1.64356054e-04, -4.29375993e-05, -3.71514162e-04,\n",
       "        1.00000000e-08, -1.96698349e-04, -7.69336257e-05, -1.64633703e-04,\n",
       "       -7.71913714e-05, -8.84627649e-05, -3.16591061e-05, -1.14855997e-04,\n",
       "       -4.60554017e-05, -6.13002640e-05])"
      ]
     },
     "execution_count": 9,
     "metadata": {},
     "output_type": "execute_result"
    }
   ],
   "source": [
    "boundMatrix.T@x"
   ]
  },
  {
   "cell_type": "code",
   "execution_count": 2,
   "id": "3fa5b20e-fc76-4b73-b661-336a1d9cf96f",
   "metadata": {},
   "outputs": [],
   "source": [
    "opt = np.load('optimizedResult.npy',allow_pickle=True).item()"
   ]
  },
  {
   "cell_type": "code",
   "execution_count": 3,
   "id": "cc1ae845-055b-4d27-bfaa-5983cddb98d2",
   "metadata": {},
   "outputs": [
    {
     "data": {
      "text/plain": [
       " message: Optimization terminated successfully.\n",
       " success: True\n",
       "  status: 1\n",
       "     fun: -0.0\n",
       "       x: [ 0.000e+00  0.000e+00  0.000e+00  0.000e+00  0.000e+00\n",
       "            0.000e+00  0.000e+00  0.000e+00  0.000e+00  0.000e+00]\n",
       "    nfev: 61\n",
       "   maxcv: -0.0"
      ]
     },
     "execution_count": 3,
     "metadata": {},
     "output_type": "execute_result"
    }
   ],
   "source": [
    "opt"
   ]
  },
  {
   "cell_type": "code",
   "execution_count": null,
   "id": "759baca5-6aeb-4dfb-8b84-a8127c4991b5",
   "metadata": {},
   "outputs": [],
   "source": []
  }
 ],
 "metadata": {
  "kernelspec": {
   "display_name": "Python 3 (ipykernel)",
   "language": "python",
   "name": "python3"
  },
  "language_info": {
   "codemirror_mode": {
    "name": "ipython",
    "version": 3
   },
   "file_extension": ".py",
   "mimetype": "text/x-python",
   "name": "python",
   "nbconvert_exporter": "python",
   "pygments_lexer": "ipython3",
   "version": "3.13.2"
  }
 },
 "nbformat": 4,
 "nbformat_minor": 5
}
