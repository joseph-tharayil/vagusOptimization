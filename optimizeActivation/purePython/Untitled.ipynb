{
 "cells": [
  {
   "cell_type": "code",
   "execution_count": 1,
   "id": "ac0a856b-33cb-4c94-84eb-171a3ba84e83",
   "metadata": {},
   "outputs": [
    {
     "name": "stdout",
     "output_type": "stream",
     "text": [
      "Using matplotlib backend: module://matplotlib_inline.backend_inline\n"
     ]
    }
   ],
   "source": [
    "import numpy as np\n",
    "import pandas as pd\n",
    "import matplotlib.pyplot as plt\n",
    "%matplotlib"
   ]
  },
  {
   "cell_type": "code",
   "execution_count": 3,
   "id": "12fb9be0-fc6b-4505-92a0-3ed0a34a16df",
   "metadata": {},
   "outputs": [],
   "source": [
    "result = np.load('optimizedResult.npy',allow_pickle=True).item()"
   ]
  },
  {
   "cell_type": "code",
   "execution_count": 4,
   "id": "5e5f29b1-e416-4d38-97f2-2aa113b5b545",
   "metadata": {},
   "outputs": [
    {
     "data": {
      "text/plain": [
       "        message: Optimization terminated successfully. (HiGHS Status 7: Optimal)\n",
       "        success: True\n",
       "         status: 0\n",
       "            fun: -1.7516852729562932e-05\n",
       "              x: [ 8.938e+01  4.595e+02  2.075e+02 -3.895e+02 -8.295e-01\n",
       "                  -5.000e+02 -2.322e+02  7.412e+01  4.545e+02 -2.666e+02]\n",
       "            nit: 14\n",
       "          lower:  residual: [ 5.894e+02  9.595e+02  7.075e+02  1.105e+02\n",
       "                              4.992e+02  0.000e+00  2.678e+02  5.741e+02\n",
       "                              9.545e+02  2.334e+02]\n",
       "                 marginals: [ 0.000e+00  0.000e+00  0.000e+00  0.000e+00\n",
       "                              0.000e+00  3.484e-08  0.000e+00  0.000e+00\n",
       "                              0.000e+00  0.000e+00]\n",
       "          upper:  residual: [ 4.106e+02  4.045e+01  2.925e+02  8.895e+02\n",
       "                              5.008e+02  1.000e+03  7.322e+02  4.259e+02\n",
       "                              4.549e+01  7.666e+02]\n",
       "                 marginals: [ 0.000e+00  0.000e+00  0.000e+00  0.000e+00\n",
       "                              0.000e+00  0.000e+00  0.000e+00  0.000e+00\n",
       "                              0.000e+00  0.000e+00]\n",
       "          eqlin:  residual: []\n",
       "                 marginals: []\n",
       "        ineqlin:  residual: [ 9.157e-07  0.000e+00 ...  4.480e-05\n",
       "                              5.961e-05]\n",
       "                 marginals: [-0.000e+00 -5.909e-01 ... -0.000e+00\n",
       "                             -0.000e+00]\n",
       " mip_node_count: 0\n",
       " mip_dual_bound: 0.0\n",
       "        mip_gap: 0.0"
      ]
     },
     "execution_count": 4,
     "metadata": {},
     "output_type": "execute_result"
    }
   ],
   "source": [
    "xurrents = "
   ]
  },
  {
   "cell_type": "code",
   "execution_count": null,
   "id": "cc015ea7-cd5f-4a72-be29-c4ac5543f1e1",
   "metadata": {},
   "outputs": [],
   "source": []
  }
 ],
 "metadata": {
  "kernelspec": {
   "display_name": "Python 3 (ipykernel)",
   "language": "python",
   "name": "python3"
  },
  "language_info": {
   "codemirror_mode": {
    "name": "ipython",
    "version": 3
   },
   "file_extension": ".py",
   "mimetype": "text/x-python",
   "name": "python",
   "nbconvert_exporter": "python",
   "pygments_lexer": "ipython3",
   "version": "3.13.2"
  }
 },
 "nbformat": 4,
 "nbformat_minor": 5
}
