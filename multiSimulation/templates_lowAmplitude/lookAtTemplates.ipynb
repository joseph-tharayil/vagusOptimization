{
 "cells": [
  {
   "cell_type": "code",
   "execution_count": 1,
   "id": "dcb693ed-dd5e-4669-9320-66d72d5474c5",
   "metadata": {},
   "outputs": [
    {
     "name": "stdout",
     "output_type": "stream",
     "text": [
      "Using matplotlib backend: module://matplotlib_inline.backend_inline\n"
     ]
    }
   ],
   "source": [
    "import numpy as np\n",
    "import matplotlib.pyplot as plt\n",
    "%matplotlib"
   ]
  },
  {
   "cell_type": "code",
   "execution_count": 12,
   "id": "43515bd8-e32c-44b4-a928-339117e63ee4",
   "metadata": {},
   "outputs": [],
   "source": [
    "templates = []\n",
    "for stim in range(10):\n",
    "    templates.append([])\n",
    "    for fasc in range(39):\n",
    "        templates[stim].append(np.load('Signals_Stim'+str(stim)+'_'+str(fasc)+'_maff.npy'))\n",
    "templates = np.array(templates)"
   ]
  },
  {
   "cell_type": "code",
   "execution_count": 26,
   "id": "a816ae49-cfb0-4a07-a1cc-d18c7e6db635",
   "metadata": {},
   "outputs": [],
   "source": [
    "templatesH = []\n",
    "for stim in range(10):\n",
    "    templatesH.append([])\n",
    "    for fasc in range(39):\n",
    "        templatesH[stim].append(np.load('../templates/Signals_Stim0_'+str(fasc)+'_maff.npy'))\n",
    "templatesH = np.array(templatesH)"
   ]
  },
  {
   "cell_type": "code",
   "execution_count": 21,
   "id": "1afb81ba-8831-4abf-a2f2-3ee375f5f4a1",
   "metadata": {},
   "outputs": [],
   "source": [
    "maxTemplates = np.max(templates,axis=-1)"
   ]
  },
  {
   "cell_type": "code",
   "execution_count": 27,
   "id": "fdbbf600-c859-40e0-8f2c-fd052e314a70",
   "metadata": {},
   "outputs": [],
   "source": [
    "maxTemplatesH = np.max(templatesH,axis=-1)"
   ]
  },
  {
   "cell_type": "code",
   "execution_count": 44,
   "id": "e5e48e8e-5292-4c17-b900-3d39fb75e462",
   "metadata": {},
   "outputs": [
    {
     "data": {
      "text/plain": [
       "array([[False,  True,  True,  True, False, False,  True, False, False,\n",
       "        False, False, False, False, False, False,  True, False, False,\n",
       "        False, False, False, False, False, False, False, False, False,\n",
       "         True, False, False, False,  True, False, False, False,  True,\n",
       "        False,  True, False],\n",
       "       [False,  True,  True,  True, False, False,  True, False, False,\n",
       "        False, False, False, False, False, False,  True, False, False,\n",
       "        False, False, False, False, False, False, False, False, False,\n",
       "         True, False, False, False,  True, False, False, False,  True,\n",
       "        False,  True, False],\n",
       "       [False,  True,  True,  True, False, False,  True, False, False,\n",
       "        False, False, False, False, False, False,  True, False, False,\n",
       "        False, False, False, False, False, False, False, False, False,\n",
       "         True, False, False, False,  True, False, False, False,  True,\n",
       "        False,  True, False],\n",
       "       [False,  True,  True,  True, False, False,  True, False, False,\n",
       "        False, False, False, False, False, False,  True, False, False,\n",
       "        False, False, False, False, False, False, False, False, False,\n",
       "         True, False, False, False,  True, False, False, False,  True,\n",
       "        False,  True, False],\n",
       "       [False,  True,  True,  True, False, False,  True, False, False,\n",
       "        False, False, False, False, False, False,  True, False, False,\n",
       "        False, False, False, False, False, False, False, False, False,\n",
       "         True, False, False, False,  True, False, False, False,  True,\n",
       "        False,  True, False],\n",
       "       [False,  True,  True,  True, False, False,  True, False, False,\n",
       "        False, False, False, False, False, False,  True, False, False,\n",
       "        False, False, False, False, False, False, False, False, False,\n",
       "         True, False, False, False,  True, False, False, False,  True,\n",
       "        False,  True, False],\n",
       "       [False,  True,  True,  True, False, False,  True, False, False,\n",
       "        False, False, False, False, False, False,  True, False, False,\n",
       "        False, False, False, False, False, False, False, False, False,\n",
       "         True, False, False, False,  True, False, False, False,  True,\n",
       "        False,  True, False],\n",
       "       [False,  True,  True,  True, False, False,  True, False, False,\n",
       "        False, False, False, False, False, False,  True, False, False,\n",
       "        False, False, False, False, False, False, False, False, False,\n",
       "         True, False, False, False,  True, False, False, False,  True,\n",
       "        False,  True, False],\n",
       "       [False,  True,  True,  True, False, False,  True, False, False,\n",
       "        False, False, False, False, False, False,  True, False, False,\n",
       "        False, False, False, False, False, False, False, False, False,\n",
       "         True, False, False, False,  True, False, False, False,  True,\n",
       "        False,  True, False],\n",
       "       [False,  True,  True,  True, False, False,  True, False, False,\n",
       "        False, False, False, False, False, False,  True, False, False,\n",
       "        False, False, False, False, False, False, False, False, False,\n",
       "         True, False, False, False,  True, False, False, False,  True,\n",
       "        False,  True, False]])"
      ]
     },
     "execution_count": 44,
     "metadata": {},
     "output_type": "execute_result"
    }
   ],
   "source": [
    "maxTemplatesH>1e-5"
   ]
  },
  {
   "cell_type": "code",
   "execution_count": 45,
   "id": "e9fdca1f-d851-4676-8cbf-18269b6b52b5",
   "metadata": {},
   "outputs": [
    {
     "data": {
      "text/plain": [
       "<matplotlib.image.AxesImage at 0x28a3a216c10>"
      ]
     },
     "execution_count": 45,
     "metadata": {},
     "output_type": "execute_result"
    },
    {
     "data": {
      "image/png": "[encoded data removed]",
      "text/plain": [
       "<Figure size 640x480 with 1 Axes>"
      ]
     },
     "metadata": {},
     "output_type": "display_data"
    }
   ],
   "source": [
    "plt.figure()\n",
    "plt.imshow(maxTemplatesH>1e-5)"
   ]
  },
  {
   "cell_type": "code",
   "execution_count": 6,
   "id": "83ec90ab-feb2-494a-bcbf-194b59742d0a",
   "metadata": {},
   "outputs": [],
   "source": [
    "time = np.linspace(-.5,.5,49997)*1e3"
   ]
  },
  {
   "cell_type": "code",
   "execution_count": 46,
   "id": "8ef60b63-0fc2-4060-9ac5-c7b1038f9535",
   "metadata": {},
   "outputs": [
    {
     "data": {
      "text/plain": [
       "(0.0, 10.0)"
      ]
     },
     "execution_count": 46,
     "metadata": {},
     "output_type": "execute_result"
    },
    {
     "data": {
      "image/png": "[encoded data removed]",
      "text/plain": [
       "<Figure size 640x480 with 1 Axes>"
      ]
     },
     "metadata": {},
     "output_type": "display_data"
    }
   ],
   "source": [
    "# plt.figure()\n",
    "# for t in templates[5]:\n",
    "#     plt.plot(time,t,c='b')\n",
    "\n",
    "for t in templates[5]:\n",
    "   plt.plot(time,t,c='r')\n",
    "    \n",
    "plt.xlim([0,10])"
   ]
  },
  {
   "cell_type": "code",
   "execution_count": 41,
   "id": "7b5ca6b8-0b8d-4025-844d-f3be53173f1f",
   "metadata": {},
   "outputs": [
    {
     "data": {
      "text/plain": [
       "(array([25090, 25117, 25140, 25160]),\n",
       " {'peak_heights': array([3.10947092e-06, 2.19186736e-05, 2.80185463e-05, 1.29085392e-05])})"
      ]
     },
     "execution_count": 41,
     "metadata": {},
     "output_type": "execute_result"
    }
   ],
   "source": [
    "from scipy.signal import find_peaks\n",
    "find_peaks(np.abs(templatesH[5][1]),height=1e-6)"
   ]
  },
  {
   "cell_type": "code",
   "execution_count": null,
   "id": "e4705ac7-25b7-4d18-858f-dbe0d7b3a5db",
   "metadata": {},
   "outputs": [],
   "source": []
  }
 ],
 "metadata": {
  "kernelspec": {
   "display_name": "Python 3 (ipykernel)",
   "language": "python",
   "name": "python3"
  },
  "language_info": {
   "codemirror_mode": {
    "name": "ipython",
    "version": 3
   },
   "file_extension": ".py",
   "mimetype": "text/x-python",
   "name": "python",
   "nbconvert_exporter": "python",
   "pygments_lexer": "ipython3",
   "version": "3.13.2"
  }
 },
 "nbformat": 4,
 "nbformat_minor": 5
}
