{
 "cells": [
  {
   "cell_type": "code",
   "execution_count": 1,
   "id": "7813c88b-c56d-4ff5-808a-244cd8699e10",
   "metadata": {},
   "outputs": [],
   "source": [
    "import numpy as np\n",
    "from scipy.io import loadmat"
   ]
  },
  {
   "cell_type": "code",
   "execution_count": 6,
   "id": "3db271bc-e4d2-4654-af7a-227ad76d76a6",
   "metadata": {},
   "outputs": [],
   "source": [
    "rawData = loadmat('/gpfs/bbp.cscs.ch/project/proj85/vagusNerve/vagusNerveCode/eCAPSdata_220303.mat')\n",
    "a500 = list(rawData['eCAPSdata_220328'][0][-5])\n",
    "\n",
    "rawSignal = a500[1][-1]-a500[1][0]\n",
    "rawTime = a500[2][0]\n",
    "\n",
    "tmin=-1 # In s\n",
    "tmax=1 # In s\n",
    "nx=100000\n",
    "tphi=np.arange(tmin,tmax,(tmax-tmin)/(nx-1))\n",
    "\n",
    "time = tphi[1:-1]*1e3\n",
    "\n",
    "indices = []\n",
    "for t in rawTime:\n",
    "    indices.append(np.argmin(np.abs(time"
   ]
  },
  {
   "cell_type": "code",
   "execution_count": 9,
   "id": "2910a283-5b97-41b4-8ad3-12109d31d7dc",
   "metadata": {},
   "outputs": [
    {
     "data": {
      "text/plain": [
       "(array([], dtype=int64),)"
      ]
     },
     "execution_count": 9,
     "metadata": {},
     "output_type": "execute_result"
    }
   ],
   "source": []
  },
  {
   "cell_type": "code",
   "execution_count": null,
   "id": "4c23ae00-ead5-49f5-8cc7-305281a81a31",
   "metadata": {},
   "outputs": [],
   "source": []
  }
 ],
 "metadata": {
  "kernelspec": {
   "display_name": "Python 3 (ipykernel)",
   "language": "python",
   "name": "python3"
  },
  "language_info": {
   "codemirror_mode": {
    "name": "ipython",
    "version": 3
   },
   "file_extension": ".py",
   "mimetype": "text/x-python",
   "name": "python",
   "nbconvert_exporter": "python",
   "pygments_lexer": "ipython3",
   "version": "3.11.6"
  }
 },
 "nbformat": 4,
 "nbformat_minor": 5
}
