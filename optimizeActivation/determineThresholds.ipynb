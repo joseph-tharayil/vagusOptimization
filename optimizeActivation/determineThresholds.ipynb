{
 "cells": [
  {
   "cell_type": "code",
   "execution_count": 1,
   "id": "3f74d15d-5d12-4c0d-9e53-545d61c722ad",
   "metadata": {},
   "outputs": [
    {
     "name": "stdout",
     "output_type": "stream",
     "text": [
      "Using matplotlib backend: module://matplotlib_inline.backend_inline\n"
     ]
    }
   ],
   "source": [
    "import pandas as pd\n",
    "import numpy as np\n",
    "import matplotlib.pyplot as plt\n",
    "%matplotlib"
   ]
  },
  {
   "cell_type": "code",
   "execution_count": 2,
   "id": "3d393ab5-e06d-4597-94dc-c339aa575679",
   "metadata": {},
   "outputs": [],
   "source": [
    " phi = pd.read_excel(r'D:\\vagusNerve\\VerticalElectrode\\StimulusExposures\\Sim_0Fasc_0.xlsx')"
   ]
  },
  {
   "cell_type": "code",
   "execution_count": 3,
   "id": "b71e3659-6cc9-4f59-8557-7660db67814c",
   "metadata": {},
   "outputs": [],
   "source": [
    "activation = np.diff(phi['Phi [V] [real]'],2)"
   ]
  },
  {
   "cell_type": "code",
   "execution_count": 4,
   "id": "a333a60e-bac7-48b6-989a-aa428268d1dd",
   "metadata": {},
   "outputs": [
    {
     "data": {
      "text/plain": [
       "np.float64(3.7550926208496094e-06)"
      ]
     },
     "execution_count": 4,
     "metadata": {},
     "output_type": "execute_result"
    }
   ],
   "source": [
    "np.max(-activation)"
   ]
  },
  {
   "cell_type": "code",
   "execution_count": 8,
   "id": "ed791457-1be1-4431-b90c-dc94613f71e2",
   "metadata": {},
   "outputs": [],
   "source": [
    " phi = pd.read_excel(r'D:\\vagusNerve\\VerticalElectrode\\StimulusExposures\\Sim_0Fasc_15.xlsx')"
   ]
  },
  {
   "cell_type": "code",
   "execution_count": 9,
   "id": "830d7d9c-73c4-4f7f-834b-0308cdae6da1",
   "metadata": {},
   "outputs": [],
   "source": [
    "activation = np.diff(phi['Phi [V] [real]'],2)"
   ]
  },
  {
   "cell_type": "code",
   "execution_count": 10,
   "id": "1735dfa6-9585-4beb-80b6-1f31b475ac14",
   "metadata": {},
   "outputs": [
    {
     "data": {
      "text/plain": [
       "np.float64(3.5762786865234375e-07)"
      ]
     },
     "execution_count": 10,
     "metadata": {},
     "output_type": "execute_result"
    }
   ],
   "source": [
    "np.max(-activation)"
   ]
  },
  {
   "cell_type": "code",
   "execution_count": null,
   "id": "3183a6df-7a37-4a28-aedd-c4fdc7e6dc8e",
   "metadata": {},
   "outputs": [],
   "source": []
  }
 ],
 "metadata": {
  "kernelspec": {
   "display_name": "Python 3 (ipykernel)",
   "language": "python",
   "name": "python3"
  },
  "language_info": {
   "codemirror_mode": {
    "name": "ipython",
    "version": 3
   },
   "file_extension": ".py",
   "mimetype": "text/x-python",
   "name": "python",
   "nbconvert_exporter": "python",
   "pygments_lexer": "ipython3",
   "version": "3.13.2"
  }
 },
 "nbformat": 4,
 "nbformat_minor": 5
}
